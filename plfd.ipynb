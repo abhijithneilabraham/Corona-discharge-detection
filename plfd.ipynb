{
  "nbformat": 4,
  "nbformat_minor": 0,
  "metadata": {
    "colab": {
      "name": "plfd.ipynb",
      "version": "0.3.2",
      "provenance": [],
      "include_colab_link": true
    },
    "kernelspec": {
      "name": "python3",
      "display_name": "Python 3"
    }
  },
  "cells": [
    {
      "cell_type": "markdown",
      "metadata": {
        "id": "view-in-github",
        "colab_type": "text"
      },
      "source": [
        "<a href=\"https://colab.research.google.com/github/abhijithneilabraham/Power-line-fault-detection/blob/master/plfd.ipynb\" target=\"_parent\"><img src=\"https://colab.research.google.com/assets/colab-badge.svg\" alt=\"Open In Colab\"/></a>"
      ]
    },
    {
      "metadata": {
        "id": "laG6-LiToegt",
        "colab_type": "code",
        "outputId": "aed94da4-bb0b-4913-f02e-e6d8270dd659",
        "colab": {
          "base_uri": "https://localhost:8080/",
          "height": 34
        }
      },
      "cell_type": "code",
      "source": [
        "\n",
        "print(pyarrow.__version__) \n",
        "import pandas as pd\n",
        "import pyarrow.parquet as pq\n",
        "import os"
      ],
      "execution_count": 0,
      "outputs": [
        {
          "output_type": "stream",
          "text": [
            "0.10.0\n"
          ],
          "name": "stdout"
        }
      ]
    },
    {
      "metadata": {
        "id": "byosxiDYpHRu",
        "colab_type": "code",
        "colab": {}
      },
      "cell_type": "code",
      "source": [
        "df_train = pd.read_parquet('train.parquet', engine='pyarrow')"
      ],
      "execution_count": 0,
      "outputs": []
    },
    {
      "metadata": {
        "id": "WC864tIF_07U",
        "colab_type": "code",
        "colab": {}
      },
      "cell_type": "code",
      "source": [
        "!pip install kaggle-cli"
      ],
      "execution_count": 0,
      "outputs": []
    },
    {
      "metadata": {
        "id": "eOcDzYlZBWYB",
        "colab_type": "code",
        "outputId": "142fca10-43c2-45bd-df8b-428a956a895e",
        "colab": {
          "base_uri": "https://localhost:8080/",
          "height": 428
        }
      },
      "cell_type": "code",
      "source": [
        "!kg download -u 'abhijithneilabraham' -p 'saintjohn' -c 'vsb-power-line-fault-detection'"
      ],
      "execution_count": 0,
      "outputs": [
        {
          "output_type": "stream",
          "text": [
            "/usr/local/lib/python3.6/dist-packages/mechanicalsoup/browser.py:37: UserWarning: No parser was explicitly specified, so I'm using the best available HTML parser for this system (\"lxml\"). This usually isn't a problem, but if you run this code on another system, or in a different virtual environment, it may use a different parser and behave differently.\n",
            "\n",
            "The code that caused this warning is on line 37 of the file /usr/local/lib/python3.6/dist-packages/mechanicalsoup/browser.py. To get rid of this warning, pass the additional argument 'features=\"lxml\"' to the BeautifulSoup constructor.\n",
            "\n",
            "  response.content, **soup_config)\n",
            "downloading https://www.kaggle.com/c/vsb-power-line-fault-detection/download/metadata_test.csv\n",
            "\n",
            "metadata_test.csv already downloaded !\n",
            "downloading https://www.kaggle.com/c/vsb-power-line-fault-detection/download/metadata_train.csv\n",
            "\n",
            "metadata_train.csv already downloaded !\n",
            "downloading https://www.kaggle.com/c/vsb-power-line-fault-detection/download/sample_submission.csv\n",
            "\n",
            "sample_submission.csv 100% |#########################| Time: 0:00:00 671.9 KiB/s\n",
            "\n",
            "downloading https://www.kaggle.com/c/vsb-power-line-fault-detection/download/test.parquet\n",
            "\n",
            "test.parquet 100% |##################################| Time: 0:04:12  28.3 MiB/s\n",
            "\n",
            "downloading https://www.kaggle.com/c/vsb-power-line-fault-detection/download/train.parquet\n",
            "\n",
            "train.parquet 100% |#################################| Time: 0:02:04  24.9 MiB/s\n",
            "\n"
          ],
          "name": "stdout"
        }
      ]
    },
    {
      "metadata": {
        "id": "a1QeWBqFHd79",
        "colab_type": "code",
        "colab": {
          "base_uri": "https://localhost:8080/",
          "height": 34
        },
        "outputId": "bdb54fdc-67f3-498e-d932-669a28a3cdba"
      },
      "cell_type": "code",
      "source": [
        "import pyarrow\n",
        "print(pyarrow.__version__)"
      ],
      "execution_count": 23,
      "outputs": [
        {
          "output_type": "stream",
          "text": [
            "0.11.1\n"
          ],
          "name": "stdout"
        }
      ]
    },
    {
      "metadata": {
        "id": "ej-5rBP1Icvx",
        "colab_type": "code",
        "colab": {}
      },
      "cell_type": "code",
      "source": [
        "import pandas as pd\n",
        "import pyarrow.parquet as pq\n",
        "import os\n",
        "from fastparquet import ParquetFile\n"
      ],
      "execution_count": 0,
      "outputs": []
    },
    {
      "metadata": {
        "id": "C_Lq_FbHTScp",
        "colab_type": "code",
        "colab": {
          "base_uri": "https://localhost:8080/",
          "height": 34
        },
        "outputId": "e70fb476-8f33-4246-f2d0-9d3a7862ec2b"
      },
      "cell_type": "code",
      "source": [
        "size=os.stat('train.parquet')\n",
        "print(size.st_size)"
      ],
      "execution_count": 32,
      "outputs": [
        {
          "output_type": "stream",
          "text": [
            "3243296587\n"
          ],
          "name": "stdout"
        }
      ]
    }
  ]
}