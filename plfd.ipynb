{
  "nbformat": 4,
  "nbformat_minor": 0,
  "metadata": {
    "colab": {
      "name": "plfd.ipynb",
      "version": "0.3.2",
      "provenance": [],
      "include_colab_link": true
    },
    "kernelspec": {
      "name": "python3",
      "display_name": "Python 3"
    }
  },
  "cells": [
    {
      "cell_type": "markdown",
      "metadata": {
        "id": "view-in-github",
        "colab_type": "text"
      },
      "source": [
        "<a href=\"https://colab.research.google.com/github/abhijithneilabraham/Power-line-fault-detection/blob/master/plfd.ipynb\" target=\"_parent\"><img src=\"https://colab.research.google.com/assets/colab-badge.svg\" alt=\"Open In Colab\"/></a>"
      ]
    },
    {
      "metadata": {
        "id": "0ahZWNKxHe5K",
        "colab_type": "code",
        "colab": {
          "base_uri": "https://localhost:8080/",
          "height": 272
        },
        "outputId": "465bf125-79a6-4dd2-e117-dd592a70d9e0"
      },
      "cell_type": "code",
      "source": [
        "!wget https://www.kaggle.com/c/10684/download-all"
      ],
      "execution_count": 1,
      "outputs": [
        {
          "output_type": "stream",
          "text": [
            "--2018-12-29 18:06:25--  https://www.kaggle.com/c/10684/download-all\n",
            "Resolving www.kaggle.com (www.kaggle.com)... 23.96.207.25\n",
            "Connecting to www.kaggle.com (www.kaggle.com)|23.96.207.25|:443... connected.\n",
            "HTTP request sent, awaiting response... 302 Found\n",
            "Location: /account/login?ReturnUrl=%2fc%2f10684%2fdownload-all [following]\n",
            "--2018-12-29 18:06:25--  https://www.kaggle.com/account/login?ReturnUrl=%2fc%2f10684%2fdownload-all\n",
            "Reusing existing connection to www.kaggle.com:443.\n",
            "HTTP request sent, awaiting response... 200 OK\n",
            "Length: 6813 (6.7K) [text/html]\n",
            "Saving to: ‘download-all’\n",
            "\n",
            "\rdownload-all          0%[                    ]       0  --.-KB/s               \rdownload-all        100%[===================>]   6.65K  --.-KB/s    in 0s      \n",
            "\n",
            "2018-12-29 18:06:25 (130 MB/s) - ‘download-all’ saved [6813/6813]\n",
            "\n"
          ],
          "name": "stdout"
        }
      ]
    },
    {
      "metadata": {
        "id": "pmNmM0DmLJEn",
        "colab_type": "code",
        "colab": {
          "base_uri": "https://localhost:8080/",
          "height": 292
        },
        "outputId": "b5906309-183f-4276-8e0d-a1ff3507954e"
      },
      "cell_type": "code",
      "source": [
        "!wget https://www.kaggle.com/c/vsb-power-line-fault-detection/download/metadata_test.csv"
      ],
      "execution_count": 6,
      "outputs": [
        {
          "output_type": "stream",
          "text": [
            "--2018-12-29 18:25:42--  https://www.kaggle.com/c/vsb-power-line-fault-detection/download/metadata_test.csv\n",
            "Resolving www.kaggle.com (www.kaggle.com)... 23.96.207.25\n",
            "Connecting to www.kaggle.com (www.kaggle.com)|23.96.207.25|:443... connected.\n",
            "HTTP request sent, awaiting response... 302 Found\n",
            "Location: /account/login?ReturnUrl=%2fc%2fvsb-power-line-fault-detection%2fdownload%2fmetadata_test.csv [following]\n",
            "--2018-12-29 18:25:42--  https://www.kaggle.com/account/login?ReturnUrl=%2fc%2fvsb-power-line-fault-detection%2fdownload%2fmetadata_test.csv\n",
            "Reusing existing connection to www.kaggle.com:443.\n",
            "HTTP request sent, awaiting response... 200 OK\n",
            "Length: 6813 (6.7K) [text/html]\n",
            "Saving to: ‘metadata_test.csv’\n",
            "\n",
            "\rmetadata_test.csv     0%[                    ]       0  --.-KB/s               \rmetadata_test.csv   100%[===================>]   6.65K  --.-KB/s    in 0s      \n",
            "\n",
            "2018-12-29 18:25:42 (107 MB/s) - ‘metadata_test.csv’ saved [6813/6813]\n",
            "\n"
          ],
          "name": "stdout"
        }
      ]
    },
    {
      "metadata": {
        "id": "XRvYPs2pOZtM",
        "colab_type": "code",
        "colab": {
          "base_uri": "https://localhost:8080/",
          "height": 292
        },
        "outputId": "e8d65bd8-9893-4e94-98e4-e0e2e3a0170d"
      },
      "cell_type": "code",
      "source": [
        "!wget https://www.kaggle.com/c/vsb-power-line-fault-detection/download/metadata_train.csv"
      ],
      "execution_count": 7,
      "outputs": [
        {
          "output_type": "stream",
          "text": [
            "--2018-12-29 18:28:47--  https://www.kaggle.com/c/vsb-power-line-fault-detection/download/metadata_train.csv\n",
            "Resolving www.kaggle.com (www.kaggle.com)... 23.96.207.25\n",
            "Connecting to www.kaggle.com (www.kaggle.com)|23.96.207.25|:443... connected.\n",
            "HTTP request sent, awaiting response... 302 Found\n",
            "Location: /account/login?ReturnUrl=%2fc%2fvsb-power-line-fault-detection%2fdownload%2fmetadata_train.csv [following]\n",
            "--2018-12-29 18:28:48--  https://www.kaggle.com/account/login?ReturnUrl=%2fc%2fvsb-power-line-fault-detection%2fdownload%2fmetadata_train.csv\n",
            "Reusing existing connection to www.kaggle.com:443.\n",
            "HTTP request sent, awaiting response... 200 OK\n",
            "Length: 6813 (6.7K) [text/html]\n",
            "Saving to: ‘metadata_train.csv’\n",
            "\n",
            "\rmetadata_train.csv    0%[                    ]       0  --.-KB/s               \rmetadata_train.csv  100%[===================>]   6.65K  --.-KB/s    in 0s      \n",
            "\n",
            "2018-12-29 18:28:48 (78.4 MB/s) - ‘metadata_train.csv’ saved [6813/6813]\n",
            "\n"
          ],
          "name": "stdout"
        }
      ]
    },
    {
      "metadata": {
        "id": "FUauGijoOd6_",
        "colab_type": "code",
        "colab": {
          "base_uri": "https://localhost:8080/",
          "height": 292
        },
        "outputId": "695f7588-8cbc-4291-ce34-16ca1dfde0a1"
      },
      "cell_type": "code",
      "source": [
        "!wget https://www.kaggle.com/c/vsb-power-line-fault-detection/download/train.parquet"
      ],
      "execution_count": 8,
      "outputs": [
        {
          "output_type": "stream",
          "text": [
            "--2018-12-29 18:29:24--  https://www.kaggle.com/c/vsb-power-line-fault-detection/download/train.parquet\n",
            "Resolving www.kaggle.com (www.kaggle.com)... 23.96.207.25\n",
            "Connecting to www.kaggle.com (www.kaggle.com)|23.96.207.25|:443... connected.\n",
            "HTTP request sent, awaiting response... 302 Found\n",
            "Location: /account/login?ReturnUrl=%2fc%2fvsb-power-line-fault-detection%2fdownload%2ftrain.parquet [following]\n",
            "--2018-12-29 18:29:24--  https://www.kaggle.com/account/login?ReturnUrl=%2fc%2fvsb-power-line-fault-detection%2fdownload%2ftrain.parquet\n",
            "Reusing existing connection to www.kaggle.com:443.\n",
            "HTTP request sent, awaiting response... 200 OK\n",
            "Length: 6813 (6.7K) [text/html]\n",
            "Saving to: ‘train.parquet’\n",
            "\n",
            "\rtrain.parquet         0%[                    ]       0  --.-KB/s               \rtrain.parquet       100%[===================>]   6.65K  --.-KB/s    in 0s      \n",
            "\n",
            "2018-12-29 18:29:24 (131 MB/s) - ‘train.parquet’ saved [6813/6813]\n",
            "\n"
          ],
          "name": "stdout"
        }
      ]
    },
    {
      "metadata": {
        "id": "BAgI_YvEPhqx",
        "colab_type": "code",
        "colab": {
          "base_uri": "https://localhost:8080/",
          "height": 156
        },
        "outputId": "3005b65b-1e80-41cc-81f4-e744307f63e0"
      },
      "cell_type": "code",
      "source": [
        "!pip install pyarrow"
      ],
      "execution_count": 10,
      "outputs": [
        {
          "output_type": "stream",
          "text": [
            "Collecting pyarrow\n",
            "\u001b[?25l  Downloading https://files.pythonhosted.org/packages/36/94/23135312f97b20d6457294606fb70fad43ef93b7bffe567088ebe3623703/pyarrow-0.11.1-cp36-cp36m-manylinux1_x86_64.whl (11.6MB)\n",
            "\u001b[K    100% |████████████████████████████████| 11.6MB 2.8MB/s \n",
            "\u001b[?25hRequirement already satisfied: numpy>=1.14 in /usr/local/lib/python3.6/dist-packages (from pyarrow) (1.14.6)\n",
            "Requirement already satisfied: six>=1.0.0 in /usr/local/lib/python3.6/dist-packages (from pyarrow) (1.11.0)\n",
            "Installing collected packages: pyarrow\n",
            "Successfully installed pyarrow-0.11.1\n"
          ],
          "name": "stdout"
        }
      ]
    },
    {
      "metadata": {
        "id": "PV_38VasQC7b",
        "colab_type": "code",
        "colab": {}
      },
      "cell_type": "code",
      "source": [
        "import pandas as pd\n",
        "import pyarrow.parquet as pq\n",
        "import os"
      ],
      "execution_count": 0,
      "outputs": []
    }
  ]
}